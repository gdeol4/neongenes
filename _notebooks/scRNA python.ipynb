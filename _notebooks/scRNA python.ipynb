{
 "cells": [
  {
   "attachments": {},
   "cell_type": "markdown",
   "id": "78b16be6",
   "metadata": {},
   "source": [
    "What is single cell sequencing and what is single cell RNA sequencing?\n",
    "Traditional next-generation sequencing (NGS) examines the genome of a cell population, such as a cell culture, a tissue, an organ or an entire organism. Its output is the “average genome” of the cell population. On the other hand, single cell sequencing measures the genomes of individual cells from a cell population.5 Nowadays, traditional methods are thus referred to as bulk sequencing to distinguish them from single cell techniques.\n",
    "\n",
    "\n",
    "Single cell sequencing technologies can currently be used to measure the genome (scDNA-seq), the DNA-methylome or the transcriptome (scRNA-seq) of each cell of a population. These technologies have been used to identify novel mutations in cancerous cells, explore the progressive epigenome variations occurring during embryonic development and assess how a seemingly homogeneous cells’ population expresses specific genes (Figure 1).6\n",
    "\n",
    "https://www.technologynetworks.com/genomics/articles/understanding-single-cell-sequencing-how-it-works-and-its-applications-357578\n",
    "\n"
   ]
  },
  {
   "cell_type": "markdown",
   "id": "9b95a439",
   "metadata": {},
   "source": [
    "How does single cell sequencing work?\n",
    "All single cell sequencing technologies require four main steps (Figure 2):\n",
    "\n",
    "\n",
    "1) Isolation of single cells from a cell population.\n",
    "\n",
    "2) Extraction, processing and amplification of the genetic material of each isolated cell.\n",
    "\n",
    "3) Preparation of a “sequencing library” including the genetic material of an isolated cell.\n",
    "\n",
    "4) Sequencing of the library using a next-generation sequencer.\n",
    "\n",
    "Figure 2: Single cell sequencing workflow. Depending on the genetic material of interest, the sample preparation procedure differs slightly. In all cases, however, the resulting sequencing material is a library of barcoded DNA or cDNA for each cell which can then be sequenced on the chosen sequencing platform.\n",
    "\n"
   ]
  },
  {
   "cell_type": "code",
   "execution_count": null,
   "id": "555bdf7e",
   "metadata": {},
   "outputs": [],
   "source": []
  }
 ],
 "metadata": {
  "kernelspec": {
   "display_name": "Python 3 (ipykernel)",
   "language": "python",
   "name": "python3"
  },
  "language_info": {
   "codemirror_mode": {
    "name": "ipython",
    "version": 3
   },
   "file_extension": ".py",
   "mimetype": "text/x-python",
   "name": "python",
   "nbconvert_exporter": "python",
   "pygments_lexer": "ipython3",
   "version": "3.9.12"
  }
 },
 "nbformat": 4,
 "nbformat_minor": 5
}
