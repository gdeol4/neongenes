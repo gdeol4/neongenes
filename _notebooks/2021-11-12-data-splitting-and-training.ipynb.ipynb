{
 "cells": [
  {
   "cell_type": "markdown",
   "metadata": {},
   "source": [
    "# Scaffold splitting and initial model training using chemprop\n",
    "> Splitting the now cleaned data using a chemical space aware technique - scaffold splitting. Data is then trained using a directed message passing neural network (D-MPNN).\n",
    "\n",
    "- toc: false\n",
    "- badges: true\n",
    "- comments: true\n",
    "- categories: [python, bioinformatics, datasets, SMILES, cheminformatics, datamol, RDKit, molecules]\n",
    "- image: images/play.gif"
   ]
  },
  {
   "cell_type": "code",
   "execution_count": 1,
   "metadata": {},
   "outputs": [
    {
     "name": "stderr",
     "output_type": "stream",
     "text": [
      "WARNING:root:No normalization for BCUT2D_MWHI\n",
      "WARNING:root:No normalization for BCUT2D_MWLOW\n",
      "WARNING:root:No normalization for BCUT2D_CHGHI\n",
      "WARNING:root:No normalization for BCUT2D_CHGLO\n",
      "WARNING:root:No normalization for BCUT2D_LOGPHI\n",
      "WARNING:root:No normalization for BCUT2D_LOGPLOW\n",
      "WARNING:root:No normalization for BCUT2D_MRHI\n",
      "WARNING:root:No normalization for BCUT2D_MRLOW\n"
     ]
    }
   ],
   "source": [
    "# import packages\n",
    "\n",
    "import chemprop\n",
    "import pandas as pd\n",
    "import datamol as dm\n",
    "from rdkit import Chem\n",
    "from rdkit.Chem.Scaffolds import MurckoScaffold\n",
    "pd.options.mode.chained_assignment = None  # default='warn'\n",
    "\n",
    "\n",
    "# loading the datasets\n",
    "MolNet = pd.read_csv(\"data/MoleculeNet.csv\")\n",
    "B3DB = pd.read_csv(\"data/B3DB.csv\")\n",
    "b3_molecules = pd.read_csv(\"data/b3_molecules.csv\")"
   ]
  },
  {
   "cell_type": "code",
   "execution_count": 2,
   "metadata": {},
   "outputs": [],
   "source": [
    "def scaffold_split(df):\n",
    "    df[\"mol\"] = [Chem.MolFromSmiles(x) for x in df[\"standard_smiles\"]] # generating moles from the standard_smiles column\n",
    "    df[\"mol\"] = [dm.sanitize_mol(x, sanifix=True, charge_neutral=True) for x in df['mol']] # sanitize mol objects\n",
    "    df = df.dropna() # dropping NA values\n",
    "    df[\"scaffold\"] = [MurckoScaffold.GetScaffoldForMol(x) for x in df[\"mol\"]] # generating scaffolds from mol object\n",
    "    df[\"mol_scaffold_generic\"] = [MurckoScaffold.MakeScaffoldGeneric(x) for x in df[\"scaffold\"]] # generalizing scaffolds\n",
    "    # convert the generic scaffold mol object back to a SMILES string format\n",
    "    df[\"smiles_scaffold_generic\"] = [Chem.CanonSmiles(Chem.MolToSmiles(x)) for x in df[\"mol_scaffold_generic\"]]\n",
    "    \n",
    "    return df"
   ]
  },
  {
   "cell_type": "code",
   "execution_count": 3,
   "metadata": {},
   "outputs": [
    {
     "data": {
      "text/html": [
       "<div>\n",
       "<style scoped>\n",
       "    .dataframe tbody tr th:only-of-type {\n",
       "        vertical-align: middle;\n",
       "    }\n",
       "\n",
       "    .dataframe tbody tr th {\n",
       "        vertical-align: top;\n",
       "    }\n",
       "\n",
       "    .dataframe thead th {\n",
       "        text-align: right;\n",
       "    }\n",
       "</style>\n",
       "<table border=\"1\" class=\"dataframe\">\n",
       "  <thead>\n",
       "    <tr style=\"text-align: right;\">\n",
       "      <th></th>\n",
       "      <th>BBB+/BBB-</th>\n",
       "      <th>SMILES</th>\n",
       "      <th>mol</th>\n",
       "      <th>standard_smiles</th>\n",
       "      <th>selfies</th>\n",
       "      <th>inchi</th>\n",
       "      <th>inchikey</th>\n",
       "      <th>scaffold</th>\n",
       "      <th>mol_scaffold_generic</th>\n",
       "      <th>smiles_scaffold_generic</th>\n",
       "    </tr>\n",
       "  </thead>\n",
       "  <tbody>\n",
       "    <tr>\n",
       "      <th>0</th>\n",
       "      <td>1</td>\n",
       "      <td>[Cl].CC(C)NCC(O)COc1cccc2ccccc12</td>\n",
       "      <td>&lt;img data-content=\"rdkit/molecule\" src=\"data:i...</td>\n",
       "      <td>CC(C)NCC(O)COc1cccc2ccccc12.[Cl-]</td>\n",
       "      <td>[C][C][Branch1][C][C][N][C][C][Branch1][C][O][...</td>\n",
       "      <td>InChI=1S/C16H21NO2.ClH/c1-12(2)17-10-14(18)11-...</td>\n",
       "      <td>ZMRUPTIKESYGQW-UHFFFAOYSA-M</td>\n",
       "      <td>&lt;img data-content=\"rdkit/molecule\" src=\"data:i...</td>\n",
       "      <td>&lt;img data-content=\"rdkit/molecule\" src=\"data:i...</td>\n",
       "      <td>C1CCC2CCCCC2C1</td>\n",
       "    </tr>\n",
       "  </tbody>\n",
       "</table>\n",
       "</div>"
      ],
      "text/plain": [
       "   BBB+/BBB-                            SMILES  \\\n",
       "0          1  [Cl].CC(C)NCC(O)COc1cccc2ccccc12   \n",
       "\n",
       "                                                 mol  \\\n",
       "0  <img data-content=\"rdkit/molecule\" src=\"data:i...   \n",
       "\n",
       "                     standard_smiles  \\\n",
       "0  CC(C)NCC(O)COc1cccc2ccccc12.[Cl-]   \n",
       "\n",
       "                                             selfies  \\\n",
       "0  [C][C][Branch1][C][C][N][C][C][Branch1][C][O][...   \n",
       "\n",
       "                                               inchi  \\\n",
       "0  InChI=1S/C16H21NO2.ClH/c1-12(2)17-10-14(18)11-...   \n",
       "\n",
       "                      inchikey  \\\n",
       "0  ZMRUPTIKESYGQW-UHFFFAOYSA-M   \n",
       "\n",
       "                                            scaffold  \\\n",
       "0  <img data-content=\"rdkit/molecule\" src=\"data:i...   \n",
       "\n",
       "                                mol_scaffold_generic smiles_scaffold_generic  \n",
       "0  <img data-content=\"rdkit/molecule\" src=\"data:i...          C1CCC2CCCCC2C1  "
      ]
     },
     "execution_count": 3,
     "metadata": {},
     "output_type": "execute_result"
    }
   ],
   "source": [
    "\n",
    "# results of the scaffold generating function\n",
    "data_split = scaffold_split(b3_molecules)\n",
    "data_split.head(1)"
   ]
  },
  {
   "cell_type": "code",
   "execution_count": 4,
   "metadata": {},
   "outputs": [
    {
     "data": {
      "text/html": [
       "<div>\n",
       "<style scoped>\n",
       "    .dataframe tbody tr th:only-of-type {\n",
       "        vertical-align: middle;\n",
       "    }\n",
       "\n",
       "    .dataframe tbody tr th {\n",
       "        vertical-align: top;\n",
       "    }\n",
       "\n",
       "    .dataframe thead th {\n",
       "        text-align: right;\n",
       "    }\n",
       "</style>\n",
       "<table border=\"1\" class=\"dataframe\">\n",
       "  <thead>\n",
       "    <tr style=\"text-align: right;\">\n",
       "      <th></th>\n",
       "      <th>BBB+/BBB-</th>\n",
       "      <th>SMILES</th>\n",
       "      <th>mol</th>\n",
       "      <th>standard_smiles</th>\n",
       "      <th>selfies</th>\n",
       "      <th>inchi</th>\n",
       "      <th>inchikey</th>\n",
       "    </tr>\n",
       "  </thead>\n",
       "  <tbody>\n",
       "    <tr>\n",
       "      <th>0</th>\n",
       "      <td>1</td>\n",
       "      <td>[Cl].CC(C)NCC(O)COc1cccc2ccccc12</td>\n",
       "      <td>&lt;img data-content=\"rdkit/molecule\" src=\"data:i...</td>\n",
       "      <td>CC(C)NCC(O)COc1cccc2ccccc12.[Cl-]</td>\n",
       "      <td>[C][C][Branch1][C][C][N][C][C][Branch1][C][O][...</td>\n",
       "      <td>InChI=1S/C16H21NO2.ClH/c1-12(2)17-10-14(18)11-...</td>\n",
       "      <td>ZMRUPTIKESYGQW-UHFFFAOYSA-M</td>\n",
       "    </tr>\n",
       "  </tbody>\n",
       "</table>\n",
       "</div>"
      ],
      "text/plain": [
       "   BBB+/BBB-                            SMILES  \\\n",
       "0          1  [Cl].CC(C)NCC(O)COc1cccc2ccccc12   \n",
       "\n",
       "                                                 mol  \\\n",
       "0  <img data-content=\"rdkit/molecule\" src=\"data:i...   \n",
       "\n",
       "                     standard_smiles  \\\n",
       "0  CC(C)NCC(O)COc1cccc2ccccc12.[Cl-]   \n",
       "\n",
       "                                             selfies  \\\n",
       "0  [C][C][Branch1][C][C][N][C][C][Branch1][C][O][...   \n",
       "\n",
       "                                               inchi  \\\n",
       "0  InChI=1S/C16H21NO2.ClH/c1-12(2)17-10-14(18)11-...   \n",
       "\n",
       "                      inchikey  \n",
       "0  ZMRUPTIKESYGQW-UHFFFAOYSA-M  "
      ]
     },
     "execution_count": 4,
     "metadata": {},
     "output_type": "execute_result"
    }
   ],
   "source": [
    "\n",
    "# the data prior to processing\n",
    "MolNet.head(1)"
   ]
  },
  {
   "cell_type": "code",
   "execution_count": 5,
   "metadata": {},
   "outputs": [],
   "source": [
    "\n",
    "# A function to process the data for use with the chemprop library\n",
    "def chemprop_prep(df, filename):\n",
    "    df = df.drop([\"mol\", \"SMILES\", \"selfies\", \"inchi\", \"inchikey\"], axis=1) # drop all columns except the smiles and target\n",
    "    df[\"smiles\"] = df[\"standard_smiles\"] # use standard smiles inplace of smiles\n",
    "    df = df.drop([\"standard_smiles\"], axis=1) # drop this column now\n",
    "    df = df[[\"smiles\", \"BBB+/BBB-\"]] # reorder the columns with smiles first and target second\n",
    "    df.to_csv('./data/' + filename + '.csv', index=False) # save the file\n",
    "\n",
    "    return df"
   ]
  },
  {
   "cell_type": "code",
   "execution_count": 6,
   "metadata": {},
   "outputs": [],
   "source": [
    "\n",
    "# Processing the three different datasets\n",
    "molnet_chemprop = chemprop_prep(MolNet, 'molnet_chemprop')\n",
    "B3DB_chemprop = chemprop_prep(B3DB, 'B3DB_chemprep')\n",
    "b3_mol_chemprop = chemprop_prep(b3_molecules, 'b3_mol_chemprop')"
   ]
  },
  {
   "cell_type": "code",
   "execution_count": 7,
   "metadata": {},
   "outputs": [
    {
     "data": {
      "text/html": [
       "<div>\n",
       "<style scoped>\n",
       "    .dataframe tbody tr th:only-of-type {\n",
       "        vertical-align: middle;\n",
       "    }\n",
       "\n",
       "    .dataframe tbody tr th {\n",
       "        vertical-align: top;\n",
       "    }\n",
       "\n",
       "    .dataframe thead th {\n",
       "        text-align: right;\n",
       "    }\n",
       "</style>\n",
       "<table border=\"1\" class=\"dataframe\">\n",
       "  <thead>\n",
       "    <tr style=\"text-align: right;\">\n",
       "      <th></th>\n",
       "      <th>smiles</th>\n",
       "      <th>BBB+/BBB-</th>\n",
       "    </tr>\n",
       "  </thead>\n",
       "  <tbody>\n",
       "    <tr>\n",
       "      <th>0</th>\n",
       "      <td>CC(C)NCC(O)COc1cccc2ccccc12.[Cl-]</td>\n",
       "      <td>1</td>\n",
       "    </tr>\n",
       "  </tbody>\n",
       "</table>\n",
       "</div>"
      ],
      "text/plain": [
       "                              smiles  BBB+/BBB-\n",
       "0  CC(C)NCC(O)COc1cccc2ccccc12.[Cl-]          1"
      ]
     },
     "execution_count": 7,
     "metadata": {},
     "output_type": "execute_result"
    }
   ],
   "source": [
    "\n",
    "# results of processing\n",
    "molnet_chemprop.head(1)"
   ]
  },
  {
   "cell_type": "code",
   "execution_count": 8,
   "metadata": {},
   "outputs": [
    {
     "data": {
      "image/png": "[encoded data removed]",
      "text/plain": [
       "<rdkit.Chem.rdchem.Mol at 0x25a82910ca0>"
      ]
     },
     "metadata": {},
     "output_type": "display_data"
    },
    {
     "name": "stdout",
     "output_type": "stream",
     "text": [
      "CN1CCCCC1CCN2C3=CC=CC=C3SC4=C2C=C(C=C4)SC\n"
     ]
    },
    {
     "data": {
      "image/png": "[encoded data removed]",
      "text/plain": [
       "<rdkit.Chem.rdchem.Mol at 0x25a8292e5e0>"
      ]
     },
     "metadata": {},
     "output_type": "display_data"
    },
    {
     "name": "stdout",
     "output_type": "stream",
     "text": [
      "C1CCC(CCC2C3CCCCC3CC3CCCCC32)CC1\n"
     ]
    }
   ],
   "source": [
    "# define compound via its SMILES string\n",
    "smiles = \"CN1CCCCC1CCN2C3=CC=CC=C3SC4=C2C=C(C=C4)SC\"\n",
    "# convert SMILES string to RDKit mol object \n",
    "mol = Chem.MolFromSmiles(smiles)\n",
    "# create RDKit mol object corresponding to Bemis-Murcko scaffold of original compound\n",
    "mol_scaffold = MurckoScaffold.GetScaffoldForMol(mol)\n",
    "# make the scaffold generic by replacing all atoms with carbons and all bonds with single bonds\n",
    "mol_scaffold_generic = MurckoScaffold.MakeScaffoldGeneric(mol_scaffold)\n",
    "# convert the generic scaffold mol object back to a SMILES string format\n",
    "smiles_scaffold_generic = Chem.CanonSmiles(Chem.MolToSmiles(mol_scaffold_generic))\n",
    "# display compound and its generic Bemis-Murcko scaffold\n",
    "display(mol)\n",
    "print(smiles)\n",
    "display(mol_scaffold_generic)\n",
    "print(smiles_scaffold_generic)\n"
   ]
  },
  {
   "cell_type": "code",
   "execution_count": 8,
   "metadata": {},
   "outputs": [
    {
     "name": "stderr",
     "output_type": "stream",
     "text": [
      "2039it [00:00, 119828.86it/s]\n",
      "100%|██████████| 2039/2039 [02:20<00:00, 14.53it/s]\n",
      "100%|██████████| 2039/2039 [00:00<00:00, 67907.37it/s]\n",
      "Fold 0\n",
      "100%|██████████| 2039/2039 [00:00<00:00, 3649.46it/s]\n",
      "100%|██████████| 30/30 [01:51<00:00,  3.73s/it]\n",
      "Model 0 best validation auc = 0.926059 on epoch 8\n",
      "Model 0 test auc = 0.928767\n",
      "Ensemble test auc = 0.928767\n",
      "Fold 1\n",
      "100%|██████████| 2039/2039 [00:00<00:00, 3489.41it/s]\n",
      "100%|██████████| 30/30 [01:51<00:00,  3.72s/it]\n",
      "Model 0 best validation auc = 0.886265 on epoch 19\n",
      "Model 0 test auc = 0.903879\n",
      "Ensemble test auc = 0.903879\n",
      "Fold 2\n",
      "100%|██████████| 2039/2039 [00:00<00:00, 3452.67it/s]\n",
      "100%|██████████| 30/30 [01:46<00:00,  3.55s/it]\n",
      "Model 0 best validation auc = 0.917212 on epoch 29\n",
      "Model 0 test auc = 0.955724\n",
      "Ensemble test auc = 0.955724\n",
      "Fold 3\n",
      "100%|██████████| 2039/2039 [00:00<00:00, 3602.29it/s]\n",
      "100%|██████████| 30/30 [01:56<00:00,  3.88s/it]\n",
      "Model 0 best validation auc = 0.886939 on epoch 5\n",
      "Model 0 test auc = 0.862450\n",
      "Ensemble test auc = 0.862450\n",
      "Fold 4\n",
      "100%|██████████| 2039/2039 [00:00<00:00, 3449.09it/s]\n",
      "100%|██████████| 30/30 [01:47<00:00,  3.59s/it]\n",
      "Model 0 best validation auc = 0.897674 on epoch 3\n",
      "Model 0 test auc = 0.890246\n",
      "Ensemble test auc = 0.890246\n",
      "Fold 5\n",
      "100%|██████████| 2039/2039 [00:00<00:00, 3590.55it/s]\n",
      "100%|██████████| 30/30 [01:42<00:00,  3.43s/it]\n",
      "Model 0 best validation auc = 0.977661 on epoch 7\n",
      "Model 0 test auc = 0.892326\n",
      "Ensemble test auc = 0.892326\n",
      "Fold 6\n",
      "100%|██████████| 2039/2039 [00:00<00:00, 3417.71it/s]\n",
      "100%|██████████| 30/30 [01:48<00:00,  3.61s/it]\n",
      "Model 0 best validation auc = 0.924837 on epoch 29\n",
      "Model 0 test auc = 0.886606\n",
      "Ensemble test auc = 0.886606\n",
      "Fold 7\n",
      "100%|██████████| 2039/2039 [00:00<00:00, 3561.41it/s]\n",
      "100%|██████████| 30/30 [01:54<00:00,  3.82s/it]\n",
      "Model 0 best validation auc = 0.946760 on epoch 24\n",
      "Model 0 test auc = 0.951849\n",
      "Ensemble test auc = 0.951849\n",
      "Fold 8\n",
      "100%|██████████| 2039/2039 [00:00<00:00, 3527.51it/s]\n",
      "100%|██████████| 30/30 [01:52<00:00,  3.75s/it]\n",
      "Model 0 best validation auc = 0.890004 on epoch 29\n",
      "Model 0 test auc = 0.906486\n",
      "Ensemble test auc = 0.906486\n",
      "Fold 9\n",
      "100%|██████████| 2039/2039 [00:00<00:00, 3542.86it/s]\n",
      "100%|██████████| 30/30 [01:46<00:00,  3.56s/it]\n",
      "Model 0 best validation auc = 0.899198 on epoch 22\n",
      "Model 0 test auc = 0.937866\n",
      "Ensemble test auc = 0.937866\n",
      "10-fold cross validation\n",
      "\tSeed 0 ==> test auc = 0.928767\n",
      "\tSeed 1 ==> test auc = 0.903879\n",
      "\tSeed 2 ==> test auc = 0.955724\n",
      "\tSeed 3 ==> test auc = 0.862450\n",
      "\tSeed 4 ==> test auc = 0.890246\n",
      "\tSeed 5 ==> test auc = 0.892326\n",
      "\tSeed 6 ==> test auc = 0.886606\n",
      "\tSeed 7 ==> test auc = 0.951849\n",
      "\tSeed 8 ==> test auc = 0.906486\n",
      "\tSeed 9 ==> test auc = 0.937866\n",
      "Overall test auc = 0.911620 +/- 0.029164\n",
      "Elapsed time = 0:20:54\n"
     ]
    }
   ],
   "source": [
    "\n",
    "\n",
    "arguments = [\n",
    "    '--data_path', './data/molnet_chemprop.csv',\n",
    "    '--dataset_type', 'classification',\n",
    "    '--save_dir', './data/chemprop_checkpoints/',\n",
    "    '--split_type', 'scaffold_balanced',\n",
    " #   '--separate_val_path', './data/chemprop_B3DB.csv',\n",
    "    '--num_folds', '10',\n",
    "    '--class_balance',\n",
    "    '--features_generator', 'rdkit_2d_normalized',\n",
    "    '--no_features_scaling',\n",
    "    '--quiet'\n",
    "    \n",
    "\n",
    "]\n",
    "\n",
    "args = chemprop.args.TrainArgs().parse_args(arguments)\n",
    "mean_score, std_score = chemprop.train.cross_validate(args=args, train_func=chemprop.train.run_training)"
   ]
  },
  {
   "cell_type": "code",
   "execution_count": null,
   "metadata": {},
   "outputs": [],
   "source": []
  }
 ],
 "metadata": {
  "interpreter": {
   "hash": "028c29dc05e1beb7b71d33cdb5a4de59de0f9bfc22ff01658d6be4e7b53b795f"
  },
  "kernelspec": {
   "display_name": "Python 3.9.7 64-bit ('chemprop': conda)",
   "language": "python",
   "name": "python3"
  },
  "language_info": {
   "codemirror_mode": {
    "name": "ipython",
    "version": 3
   },
   "file_extension": ".py",
   "mimetype": "text/x-python",
   "name": "python",
   "nbconvert_exporter": "python",
   "pygments_lexer": "ipython3",
   "version": "3.9.7"
  },
  "orig_nbformat": 4
 },
 "nbformat": 4,
 "nbformat_minor": 2
}
