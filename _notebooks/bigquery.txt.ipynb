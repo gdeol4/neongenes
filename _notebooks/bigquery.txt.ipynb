{
 "cells": [
  {
   "cell_type": "markdown",
   "id": "bff95060",
   "metadata": {},
   "source": [
    "# What is Google BigQuery?\n",
    "\n",
    "BigQuery is a fully managed, serverless, data warehouse that can scale. BigQuery includes features such as machine learning and comes with its own query engine that handles the SQL. Analysis of petabytes of data  such as aggregations over the entire dataset can be done in minutes, with fully managed infrastructure management, and no need to create or rebuild indexes."
   ]
  }
 ],
 "metadata": {
  "kernelspec": {
   "display_name": "Python 3 (ipykernel)",
   "language": "python",
   "name": "python3"
  },
  "language_info": {
   "codemirror_mode": {
    "name": "ipython",
    "version": 3
   },
   "file_extension": ".py",
   "mimetype": "text/x-python",
   "name": "python",
   "nbconvert_exporter": "python",
   "pygments_lexer": "ipython3",
   "version": "3.10.4"
  }
 },
 "nbformat": 4,
 "nbformat_minor": 5
}
