{
 "cells": [
  {
   "cell_type": "code",
   "execution_count": null,
   "metadata": {},
   "outputs": [],
   "source": [
    "from rdkit import Chem\n",
    "from rdkit.Chem import AllChem\n",
    "\n",
    "# compute ECFP6 fingerprints\n",
    "mol = Chem.MolFromSmiles(row[\"smiles\"])\n",
    "mol = Chem.AddHs(mol)\n",
    "fps = []\n",
    "\n",
    "for idx, row in data_clean.iterrows():    \n",
    "    fp = AllChem.GetMorganFingerprintAsBitVect(mol=mol, \n",
    "                                               radius=3, \n",
    "                                               nBits=2048,\n",
    "                                               useChirality=True, \n",
    "                                               useFeatures=False)\n",
    "    fps.append(fp.ToBitString())"
   ]
  },
  {
   "cell_type": "code",
   "execution_count": null,
   "metadata": {},
   "outputs": [],
   "source": [
    "# uint8\tu1\t8-bit unsigned integer\n",
    "import numpy as np\n",
    "fps_arr = np.array([np.fromiter(fp, \"u1\") for fp in fps])"
   ]
  },
  {
   "cell_type": "code",
   "execution_count": null,
   "metadata": {},
   "outputs": [],
   "source": [
    "df_fps = pd.DataFrame(fps_arr, index=data_clean.index)\n",
    "df_new = pd.concat([data_clean, df_fps], axis=1)"
   ]
  },
  {
   "cell_type": "code",
   "execution_count": null,
   "metadata": {},
   "outputs": [],
   "source": []
  }
 ],
 "metadata": {
  "language_info": {
   "name": "python"
  },
  "orig_nbformat": 4
 },
 "nbformat": 4,
 "nbformat_minor": 2
}
