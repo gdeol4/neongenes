{
 "cells": [
  {
   "cell_type": "markdown",
   "id": "c0cd9bc3",
   "metadata": {},
   "source": [
    "# Accessing the NCBI Entrez database using Biopython\n",
    "> This tutorial uses the NCBI API to interface with Entrez.\n",
    "\n",
    "- toc: true \n",
    "- badges: true\n",
    "- comments: true\n",
    "- categories: [python, bioinformatics, datasets, genetics]\n",
    "- image: images/mol.gif"
   ]
  },
  {
   "cell_type": "markdown",
   "id": "4b1afe19",
   "metadata": {},
   "source": [
    "#### Background\n",
    "\n",
    "This tutorial uses the NCBI API to interface with Entrez. To get started, the necessary libraries need to be imported and an email needs to be provided (so NCBI can contact you about your query if needed)."
   ]
  },
  {
   "cell_type": "code",
   "execution_count": null,
   "id": "aa2cfe23",
   "metadata": {},
   "outputs": [],
   "source": [
    "email_address = \"gurkamal.dev@gmail.com\" "
   ]
  },
  {
   "cell_type": "markdown",
   "id": "787bc0ec",
   "metadata": {},
   "source": [
    "The goal will be to find the chloroquine resistance transporter (CRT) gene in the parasite Plasmodium flaciparum in the nucleotide database."
   ]
  },
  {
   "cell_type": "markdown",
   "id": "c4021e45",
   "metadata": {},
   "source": [
    "#### Loading Libraries"
   ]
  },
  {
   "cell_type": "code",
   "execution_count": 3,
   "id": "67a9ac18",
   "metadata": {},
   "outputs": [],
   "source": [
    "from Bio import Entrez, Medline, SeqIO"
   ]
  },
  {
   "cell_type": "markdown",
   "id": "d39965d1",
   "metadata": {},
   "source": [
    "#### What is a handle?"
   ]
  },
  {
   "cell_type": "markdown",
   "id": "d23550dc",
   "metadata": {},
   "source": [
    "A handle is essentially a “wrapper” around text information.\n",
    "\n",
    "Handles provide two benefits over plain text information:\n",
    "\n",
    "They provide a standard way to deal with information stored in different ways. The text information can be in a file, or in a string stored in memory, or the output from a command line program, or at some remote website, but the handle provides a common way of dealing with information in all of these formats.\n",
    "\n",
    "They allow text information to be read incrementally, instead of all at once. This is really important when dealing with huge text files which would use up all of the memory if you had to load them all.\n",
    "\n",
    "Handles can deal with text information that is being read (reading from a file) or written (writing information to a file). In the case of a “read” handle, commonly used functions are ```read()```, which reads the entire text information from the handle, and ```readline()```, which reads information one line at a time. For “write” handles, the function ```write()``` is regularly used."
   ]
  },
  {
   "cell_type": "markdown",
   "id": "1195caac",
   "metadata": {},
   "source": [
    "#### Retrieving information"
   ]
  },
  {
   "cell_type": "markdown",
   "id": "4da110bc",
   "metadata": {},
   "source": [
    "To see the available databases:"
   ]
  },
  {
   "cell_type": "code",
   "execution_count": 8,
   "id": "d39a6612",
   "metadata": {
    "collapsed": true
   },
   "outputs": [
    {
     "name": "stdout",
     "output_type": "stream",
     "text": [
      "{'DbList': ['pubmed', 'protein', 'nuccore', 'ipg', 'nucleotide', 'structure', 'genome', 'annotinfo', 'assembly', 'bioproject', 'biosample', 'blastdbinfo', 'books', 'cdd', 'clinvar', 'gap', 'gapplus', 'grasp', 'dbvar', 'gene', 'gds', 'geoprofiles', 'homologene', 'medgen', 'mesh', 'ncbisearch', 'nlmcatalog', 'omim', 'orgtrack', 'pmc', 'popset', 'proteinclusters', 'pcassay', 'protfam', 'pccompound', 'pcsubstance', 'seqannot', 'snp', 'sra', 'taxonomy', 'biocollections', 'gtr']}\n"
     ]
    }
   ],
   "source": [
    "#This gives you the list of available databases\n",
    "handle = Entrez.einfo()\n",
    "\n",
    "#Read and store the Entrez query record returned\n",
    "rec = Entrez.read(handle)"
   ]
  },
  {
   "cell_type": "markdown",
   "id": "231d8477",
   "metadata": {},
   "source": [
    "#### Searching for a specific gene"
   ]
  },
  {
   "cell_type": "code",
   "execution_count": 7,
   "id": "1717b2a9",
   "metadata": {},
   "outputs": [
    {
     "data": {
      "text/plain": [
       "{'Count': '2022', 'RetMax': '20', 'RetStart': '0', 'IdList': ['2196471109', '2196471107', '2196471105', '2196471103', '2196471101', '2196471099', '2196471097', '2196471095', '2196471093', '2196471091', '2196471089', '2196471087', '2196471085', '2196471083', '2196471081', '2196471079', '2196471077', '2196471075', '2196471073', '2196471071'], 'TranslationSet': [{'From': '\"Plasmodium falciparum\"[Organism]', 'To': '\"Plasmodium falciparum\"[Organism]'}], 'TranslationStack': [{'Term': 'CRT[Gene Name]', 'Field': 'Gene Name', 'Count': '4778', 'Explode': 'N'}, {'Term': '\"Plasmodium falciparum\"[Organism]', 'Field': 'Organism', 'Count': '258609', 'Explode': 'Y'}, 'AND'], 'QueryTranslation': 'CRT[Gene Name] AND \"Plasmodium falciparum\"[Organism]'}"
      ]
     },
     "execution_count": 7,
     "metadata": {},
     "output_type": "execute_result"
    }
   ],
   "source": [
    "#search the nucleotide database for our gene and organism\n",
    "handle = Entrez.esearch(db=\"nucleotide\", term='CRT[Gene Name] AND \"Plasmodium falciparum\"[Organism]')\n",
    "\n",
    "#read the result that is returned\n",
    "rec_list = Entrez.read(handle)\n",
    "\n",
    "rec_list"
   ]
  },
  {
   "cell_type": "markdown",
   "id": "da7e8e86",
   "metadata": {},
   "source": [
    "#### Returning all records"
   ]
  },
  {
   "cell_type": "markdown",
   "id": "54a3a8b3",
   "metadata": {},
   "source": [
    "The standard search will limit the number of record references to 20, so if you have more, you may want to repeat the query with an increased maximum limit. In this case, we will actually override the default limit with retmax. The Entrez system provides quite a few sophisticated ways to retrieve large number of results.\n",
    "\n",
    "Be careful with this technique, because you will retrieve a large amount of complete records, and some of them will have fairly large sequences inside."
   ]
  },
  {
   "cell_type": "code",
   "execution_count": 10,
   "id": "ee675cb2",
   "metadata": {},
   "outputs": [],
   "source": [
    "if rec_list['RetMax'] < rec_list['Count']:\n",
    "    handle = Entrez.esearch(db=\"nucleotide\", term='CRT[Gene Name] AND \"Plasmodium falciparum\"[Organism]',\n",
    "                            retmax=rec_list['Count'])\n",
    "    rec_list = Entrez.read(handle)"
   ]
  },
  {
   "cell_type": "markdown",
   "id": "d53d0044",
   "metadata": {},
   "source": [
    "#### Downloading nucleotide sequences"
   ]
  },
  {
   "cell_type": "markdown",
   "id": "72e4acc2",
   "metadata": {},
   "source": [
    "Now that we have the IDs of all of the records, you still need to retrieve the records properly.\n",
    "\n",
    "This will retrieve a list of records in the GenBank format (including sequences and metadata)"
   ]
  },
  {
   "cell_type": "code",
   "execution_count": 11,
   "id": "e5e47c95",
   "metadata": {},
   "outputs": [],
   "source": [
    "# query will download all matching nucleotide sequences from GenBank\n",
    "id_list = rec_list['IdList']\n",
    "\n",
    "handle_2 = Entrez.efetch(db='nucleotide', \n",
    "                         id=id_list, rettype='gb', \n",
    "                         retmax=rec_list['Count'])"
   ]
  },
  {
   "cell_type": "markdown",
   "id": "973fc2cc",
   "metadata": {},
   "source": [
    "The result of ```SeqIO.parse``` is an iterator and is converted to a list. The advantage of doing this is that we can use the result as many times as we want(for example, iterate many times over), without repeating the query on the server.This saves time, bandwidth, and server usage if you plan to iterate many timesover. \n",
    "\n",
    "The disadvantage is that it will allocate memory for all records. This will not work for very large datasets"
   ]
  },
  {
   "cell_type": "code",
   "execution_count": null,
   "id": "3a57e5b7",
   "metadata": {},
   "outputs": [],
   "source": [
    "recs = list(SeqIO.parse(handle_2, 'gb'))"
   ]
  },
  {
   "cell_type": "markdown",
   "id": "0035ffa0",
   "metadata": {},
   "source": [
    "#### Reading a record"
   ]
  },
  {
   "cell_type": "markdown",
   "id": "f4a96647",
   "metadata": {},
   "source": [
    "The ```rec```  variable now contains the record of interest. The ```rec.description``` will contain its human-readable description."
   ]
  },
  {
   "cell_type": "code",
   "execution_count": 13,
   "id": "0beca3c7",
   "metadata": {},
   "outputs": [
    {
     "name": "stdout",
     "output_type": "stream",
     "text": [
      "KM288867\n",
      "Plasmodium falciparum clone PF3D7_0709000 chloroquine resistance transporter (CRT) gene, complete cds\n"
     ]
    }
   ],
   "source": [
    "for rec in recs:\n",
    "    if rec.name == 'KM288867':\n",
    "        break\n",
    "print(rec.name)\n",
    "print(rec.description)"
   ]
  },
  {
   "cell_type": "markdown",
   "id": "c366db9d",
   "metadata": {},
   "source": [
    "#### Extracting sequences features "
   ]
  },
  {
   "cell_type": "markdown",
   "id": "5068cbbd",
   "metadata": {},
   "source": [
    "Extract sequence features which contain information such as gene products and exon positions on the sequence:"
   ]
  },
  {
   "cell_type": "code",
   "execution_count": 14,
   "id": "54d8a46e",
   "metadata": {},
   "outputs": [
    {
     "name": "stdout",
     "output_type": "stream",
     "text": [
      "not processed:\n",
      "type: source\n",
      "location: [0:10000](+)\n",
      "qualifiers:\n",
      "    Key: clone, Value: ['PF3D7_0709000']\n",
      "    Key: db_xref, Value: ['taxon:5833']\n",
      "    Key: mol_type, Value: ['genomic DNA']\n",
      "    Key: organism, Value: ['Plasmodium falciparum']\n",
      "\n",
      "['CRT']\n",
      "not processed:\n",
      "type: mRNA\n",
      "location: join{[2751:3543](+), [3720:3989](+), [4168:4341](+), [4513:4646](+), [4799:4871](+), [4994:5070](+), [5166:5249](+), [5376:5427](+), [5564:5621](+), [5769:5862](+), [6055:6100](+), [6247:6302](+), [6471:7598](+)}\n",
      "qualifiers:\n",
      "    Key: gene, Value: ['CRT']\n",
      "    Key: product, Value: ['chloroquine resistance transporter']\n",
      "\n",
      "not processed:\n",
      "type: 5'UTR\n",
      "location: [2751:3452](+)\n",
      "qualifiers:\n",
      "    Key: gene, Value: ['CRT']\n",
      "\n",
      "not processed:\n",
      "type: primer_bind\n",
      "location: [2935:2958](+)\n",
      "qualifiers:\n",
      "\n",
      "not processed:\n",
      "type: primer_bind\n",
      "location: [3094:3121](+)\n",
      "qualifiers:\n",
      "\n",
      "not processed:\n",
      "type: CDS\n",
      "location: join{[3452:3543](+), [3720:3989](+), [4168:4341](+), [4513:4646](+), [4799:4871](+), [4994:5070](+), [5166:5249](+), [5376:5427](+), [5564:5621](+), [5769:5862](+), [6055:6100](+), [6247:6302](+), [6471:6548](+)}\n",
      "qualifiers:\n",
      "    Key: codon_start, Value: ['1']\n",
      "    Key: gene, Value: ['CRT']\n",
      "    Key: product, Value: ['chloroquine resistance transporter']\n",
      "    Key: protein_id, Value: ['AIW62921.1']\n",
      "    Key: translation, Value: ['MKFASKKNNQKNSSKNDERYRELDNLVQEGNGSRLGGGSCLGKCAHVFKLIFKEIKDNIFIYILSIIYLSVCVMNKIFAKRTLNKIGNYSFVTSETHNFICMIMFFIVYSLFGNKKGNSKERHRSFNLQFFAISMLDACSVILAFIGLTRTTGNIQSFVLQLSIPINMFFCFLILRYRYHLYNYLGAVIIVVTIALVEMKLSFETQEENSIIFNLVLISALIPVCFSNMTREIVFKKYKIDILRLNAMVSFFQLFTSCLILPVYTLPFLKQLHLPYNEIWTNIKNGFACLFLGRNTVVENCGLGMAKLCDDCDGAWKTFALFSFFNICDNLITSYIIDKFSTMTYTIVSCIQGPAIAIAYYFKFLAGDVVREPRLLDFVTLFGYLFGSIIYRVGNIILERKKMRNEENEDSEGELTNVDSIITQ']\n",
      "\n",
      "Exon 3452 3543 1\n",
      "Exon 3720 3989 1\n",
      "Exon 4168 4341 1\n",
      "not processed:\n",
      "type: primer_bind\n",
      "location: [4288:4323](-)\n",
      "qualifiers:\n",
      "\n",
      "Exon 4513 4646 1\n",
      "Exon 4799 4871 1\n",
      "Exon 4994 5070 1\n",
      "Exon 5166 5249 1\n",
      "Exon 5376 5427 1\n",
      "Exon 5564 5621 1\n",
      "Exon 5769 5862 1\n",
      "Exon 6055 6100 1\n",
      "Exon 6247 6302 1\n",
      "Exon 6471 6548 1\n",
      "not processed:\n",
      "type: 3'UTR\n",
      "location: [6548:7598](+)\n",
      "qualifiers:\n",
      "    Key: gene, Value: ['CRT']\n",
      "\n",
      "not processed:\n",
      "type: primer_bind\n",
      "location: [7833:7856](-)\n",
      "qualifiers:\n",
      "\n"
     ]
    }
   ],
   "source": [
    "#If the feature.type is gene, print its name\n",
    "for feature in rec.features:\n",
    "    if feature.type == 'gene':\n",
    "        # gene name will be in the feature.qualifiers dictionary.\n",
    "        print(feature.qualifiers['gene'])\n",
    "        # print the start, end, and originating strand of the exon\n",
    "    elif feature.type == 'exon':\n",
    "        loc = feature.location\n",
    "        print('Exon', loc.start, loc.end, loc.strand)\n",
    "    else:\n",
    "        print('not processed:\\n%s' % feature)"
   ]
  },
  {
   "cell_type": "markdown",
   "id": "703296c4",
   "metadata": {},
   "source": [
    "#### Record annotations"
   ]
  },
  {
   "cell_type": "markdown",
   "id": "0f885ef1",
   "metadata": {},
   "source": [
    "We will now look at the annotations on the record, which are mostly metadata that is not related to the sequence position. Note that some values are not strings; they can be numbers or even lists (for example, the taxonomy annotation is a list)"
   ]
  },
  {
   "cell_type": "code",
   "execution_count": 15,
   "id": "4a4df4b6",
   "metadata": {},
   "outputs": [
    {
     "name": "stdout",
     "output_type": "stream",
     "text": [
      "molecule_type=DNA\n",
      "topology=linear\n",
      "data_file_division=INV\n",
      "date=12-NOV-2014\n",
      "accessions=['KM288867']\n",
      "sequence_version=1\n",
      "keywords=['']\n",
      "source=Plasmodium falciparum (malaria parasite P. falciparum)\n",
      "organism=Plasmodium falciparum\n",
      "taxonomy=['Eukaryota', 'Sar', 'Alveolata', 'Apicomplexa', 'Aconoidasida', 'Haemosporida', 'Plasmodiidae', 'Plasmodium', 'Plasmodium (Laverania)']\n",
      "references=[Reference(title='Versatile control of Plasmodium falciparum gene expression with an inducible protein-RNA interaction', ...), Reference(title='Direct Submission', ...)]\n"
     ]
    }
   ],
   "source": [
    "for name, value in rec.annotations.items():\n",
    "    print('%s=%s' % (name, value))"
   ]
  },
  {
   "cell_type": "markdown",
   "id": "734c7820",
   "metadata": {},
   "source": [
    "#### Accessing the sequence data"
   ]
  },
  {
   "cell_type": "markdown",
   "id": "f99577f0",
   "metadata": {},
   "source": [
    "Last but not least, you can access the fundamental piece of information, the sequence"
   ]
  },
  {
   "cell_type": "code",
   "execution_count": 21,
   "id": "d419d63e",
   "metadata": {},
   "outputs": [
    {
     "name": "stdout",
     "output_type": "stream",
     "text": [
      "ATATGTAAAACCAAAATAAATTAAACAGAATTTATTTTTAAAAGATTTATTTGTAACAATATTACCATGATGATTTATTAAAGTAAAATCACCACCTATT\n"
     ]
    }
   ],
   "source": [
    "print(rec.seq[0:100])"
   ]
  }
 ],
 "metadata": {
  "interpreter": {
   "hash": "45b51ebe5de19b68e48a54847eef17d90f56dfb55dc7846d4880121b3dcc429b"
  },
  "kernelspec": {
   "display_name": "Python 3.10.4 ('bioinf')",
   "language": "python",
   "name": "python3"
  },
  "language_info": {
   "codemirror_mode": {
    "name": "ipython",
    "version": 3
   },
   "file_extension": ".py",
   "mimetype": "text/x-python",
   "name": "python",
   "nbconvert_exporter": "python",
   "pygments_lexer": "ipython3",
   "version": "3.10.4"
  }
 },
 "nbformat": 4,
 "nbformat_minor": 5
}
