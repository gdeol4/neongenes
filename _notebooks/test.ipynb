{
 "cells": [
  {
   "cell_type": "markdown",
   "metadata": {},
   "source": [
    "# Building a drug discovery web app - the roadmap\n",
    "> Leveraging opensource data to build a machine learning classifier trained on deep learning generated data\n",
    "\n",
    "- toc: false \n",
    "- badges: true\n",
    "- comments: true\n",
    "- categories: [python, bioinformatics, datasets, SMILES, cheminformatics, drug discovery, RDKit]\n",
    "- image: images/pipe.gif"
   ]
  },
  {
   "cell_type": "markdown",
   "metadata": {},
   "source": [
    "# My goal:\n",
    "\n",
    "The end goal for this project is to build a web app dashboard to monitor the accuracy of machine learning models on generating and classifying molecules with blood brain barrier permeability.\n",
    "\n",
    "My goal is to train a classification model using the D-MPNN architecture, screen the [Drug Repurposing Hub](https://www.nature.com/articles/nm.4306) for molecules identified as blood brain barrier permeable, mutate the top 10 molecules with the STONED SELFIES algorithm, check these molecules for existing drugs, predict toxicity and other molecular properties.\n",
    "\n",
    "B3_screen -> a web app that classifies molecules as blood brain barrier permeable or not. "
   ]
  }
 ],
 "metadata": {
  "language_info": {
   "name": "python"
  },
  "orig_nbformat": 4
 },
 "nbformat": 4,
 "nbformat_minor": 2
}
