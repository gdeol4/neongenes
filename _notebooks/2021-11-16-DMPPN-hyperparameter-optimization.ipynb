{
 "cells": [
  {
   "cell_type": "code",
   "execution_count": null,
   "metadata": {},
   "outputs": [],
   "source": []
  }
 ],
 "metadata": {
  "interpreter": {
   "hash": "028c29dc05e1beb7b71d33cdb5a4de59de0f9bfc22ff01658d6be4e7b53b795f"
  },
  "kernelspec": {
   "display_name": "Python 3.9.7 64-bit ('chemprop': conda)",
   "language": "python",
   "name": "python3"
  },
  "language_info": {
   "name": "python",
   "version": "3.9.7"
  },
  "orig_nbformat": 4
 },
 "nbformat": 4,
 "nbformat_minor": 2
}
