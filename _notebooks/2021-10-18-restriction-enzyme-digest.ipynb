{
 "cells": [
  {
   "cell_type": "markdown",
   "metadata": {},
   "source": [
    "# Writing a function in python to perform a restriction enzyme digest\n",
    "> Implementing restriction digestion using regular expressions, lists, and dictionaries.\n",
    "\n",
    "- toc: false \n",
    "- badges: true\n",
    "- comments: true\n",
    "- categories: [python, bioinformatics, restriction enzyme, function]\n",
    "- image: images/digest.gif"
   ]
  },
  {
   "cell_type": "markdown",
   "id": "spectacular-projection",
   "metadata": {},
   "source": [
    "# Creating a restriction enzyme dictionary\n",
    "\n",
    "The activity of a restriction enzyme can be defined by its recognition site on the DNA sequence and the position relative to the recognition site, at which it cuts the DNA. Let’s create a dictionary that we can use to define these restriction enzyme parameters:"
   ]
  },
  {
   "cell_type": "markdown",
   "metadata": {},
   "source": [
    "Notice that the key for each entry in this dictionary is the name of the enzyme and the value is a list whose first element is the enzyme’s recognition site and second element is the position relative to the recognition site, at which the enzyme cuts the DNA. You could imagine adding a whole bunch of restriction enzymes to this dictionary, and even using as a kind of simple restriction enzyme database with which you could do digital DNA restriction experiments. One thing you would almost certainly need however is a way to keep track of which enzymes are present in the dictionary and to be able to query whether or not the dictionary has the enzyme you are interested in using. There are two very useful dictionary methods that you should know if you are going to use dictionaries in your code, and the best way to describe them is to see them in action:"
   ]
  },
  {
   "cell_type": "code",
   "execution_count": null,
   "metadata": {},
   "outputs": [],
   "source": [
    "# define the function, it takes two arguemnts, a DNA \"sequence\", and an \"enzyme\"\n",
    "# from the restriction enzyme dictionary\n",
    "\n",
    "restrictionEnzymes = {}\n",
    "\n",
    "restrictionEnzymes['bamH1'] = ['ggatcc',0]\n",
    "restrictionEnzymes['sma1'] = ['cccggg',2]\n",
    "\n",
    "dnaMolecularWeight = {'a':313.2,'c':289.2,'t':304.2,'g':329.2}\n",
    "\n",
    "def oligoMolecularWeight(sequence):\n",
    "    dnaMolecularWeight = {'a':313.2,'c':289.2,'t':304.2,'g':329.2}\n",
    "    molecularWeight = 0.0\n",
    "    for base in sequence:\n",
    "        molecularWeight += dnaMolecularWeight[base]\n",
    "    return molecularWeight\n",
    "\n",
    "\n",
    "def digest(sequence, enzyme):\n",
    "    motif = restrictionEnzymes[enzyme][0]\n",
    "    cutPosition = restrictionEnzymes[enzyme][1]\n",
    "    fragments = []\n",
    "    found = 0 # \n",
    "    lastCut = found\n",
    "    searchFrom = lastCut\n",
    "\n",
    "    while found != -1:\n",
    "        found = sequence.find(motif, searchFrom)\n",
    "        if found != -1:\n",
    "            fragment = sequence[lastCut:found+cutPosition]\n",
    "            mwt = oligoMolecularWeight(fragment)\n",
    "            fragments.append((fragment,mwt))\n",
    "        else:\n",
    "            fragment = sequence[lastCut:]\n",
    "            mwt = oligoMolecularWeight(fragment)\n",
    "            fragments.append((fragment,mwt))\n",
    "        lastCut = found + cutPosition\n",
    "        searchFrom = lastCut + 1"
   ]
  },
  {
   "cell_type": "markdown",
   "metadata": {},
   "source": [
    "The variable found is the position of the last found restriction\n",
    "site, initialized to the start of the sequence to begin with. The variable lastCut stores the\n",
    "position at which we last cut the DNA (which may not be the same as the starting position\n",
    "of the restriction site). This is needed to define the starting position of the current\n",
    "fragment (and the end of the last one). The variable searchFrom (again, included to make\n",
    "the code more readable) tells us from where we need to start the next search step, which\n",
    "is always the next position after the one in which we previously cut the DNA strand."
   ]
  }
 ],
 "metadata": {
  "kernelspec": {
   "display_name": "Python 3",
   "language": "python",
   "name": "python3"
  },
  "language_info": {
   "codemirror_mode": {
    "name": "ipython",
    "version": 3
   },
   "file_extension": ".py",
   "mimetype": "text/x-python",
   "name": "python",
   "nbconvert_exporter": "python",
   "pygments_lexer": "ipython3",
   "version": "3.8.11"
  }
 },
 "nbformat": 4,
 "nbformat_minor": 5
}
