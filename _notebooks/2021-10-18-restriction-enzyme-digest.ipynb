{
 "cells": [
  {
   "cell_type": "markdown",
   "metadata": {},
   "source": [
    "# Writing a function in python to perform a restriction enzyme digest\n",
    "> Implementing restriction digestion using regular expressions, lists, and dictionaries.\n",
    "\n",
    "- toc: false \n",
    "- badges: true\n",
    "- comments: true\n",
    "- categories: [python, bioinformatics, restriction enzyme, function]\n",
    "- image: images/digest.gif"
   ]
  },
  {
   "cell_type": "markdown",
   "id": "spectacular-projection",
   "metadata": {},
   "source": [
    "# Creating a restriction enzyme dictionary\n",
    "\n",
    "Restriction enzymes are proteins produced by bacteria that cleave DNA at specific sites along the molecule. The enzyme functions on a specific, short nucleotide sequence and cuts the DNA only at that specific site, which is known as restriction site or target sequence. In the bacterial cell, restriction enzymes cleave foreign DNA, thus eliminating infecting organisms. The activity of a restriction enzyme can be defined by its recognition site on the DNA sequence and the position relative to the recognition site, at which it cuts the DNA."
   ]
  },
  {
   "cell_type": "code",
   "execution_count": 12,
   "metadata": {},
   "outputs": [],
   "source": [
    "# define the function, it takes two arguemnts, a DNA \"sequence\", and an \"enzyme\"\n",
    "\n",
    "# create enzyme dictionary\n",
    "restrictionEnzymes = {}\n",
    "\n",
    "# add \"bamH1\" and \"sma1\" enzymes, their target sequence, and position releative to the recognition site\n",
    "restrictionEnzymes['bamH1'] = ['ggatcc',0]\n",
    "restrictionEnzymes['sma1'] = ['cccggg',2]\n",
    "\n",
    "# a function to calculate the molecular weight of dna sequences\n",
    "def oligoMolecularWeight(sequence):\n",
    "\n",
    "    # create a dictionairy of DNA basepair molecular weights\n",
    "    dnaMolecularWeight = {'a':313.2,'c':289.2,'t':304.2,'g':329.2}\n",
    "\n",
    "    # initialize molecular weight\n",
    "    molecularWeight = 0.0\n",
    "\n",
    "    # iterate through DNA sequnce and update weight of sequence\n",
    "    for base in sequence:\n",
    "        molecularWeight += dnaMolecularWeight[base]\n",
    "    return molecularWeight\n",
    "\n",
    "# the primary function for restriction digest\n",
    "def digest(sequence, enzyme):\n",
    "    # set target sequence\n",
    "    target = restrictionEnzymes[enzyme][0]\n",
    "\n",
    "    # enzyme cut position relative to recognition site\n",
    "    cutPosition = restrictionEnzymes[enzyme][1]\n",
    "\n",
    "    # a list to collect DNA fragments\n",
    "    fragments = []\n",
    "\n",
    "    # counter for the position of the last restriction site; beginning of sequence\n",
    "    found = 0\n",
    "\n",
    "    # a variable to store the position of the last cut; end of sequence\n",
    "    lastCut = found\n",
    "\n",
    "    # variable to set where to search for the next site from\n",
    "    searchFrom = lastCut\n",
    "\n",
    "    while found != -1:\n",
    "        found = sequence.find(target, searchFrom)\n",
    "        if found != -1:\n",
    "            fragment = sequence[lastCut:found+cutPosition]\n",
    "            mwt = oligoMolecularWeight(fragment)\n",
    "            fragments.append((fragment,mwt))\n",
    "        else:\n",
    "            fragment = sequence[lastCut:]\n",
    "            mwt = oligoMolecularWeight(fragment)\n",
    "            fragments.append((fragment,mwt))\n",
    "        lastCut = found + cutPosition\n",
    "        searchFrom = lastCut + 1\n",
    "    \n",
    "    return fragments"
   ]
  },
  {
   "cell_type": "markdown",
   "metadata": {},
   "source": [
    "Running the function on a test sequence results in the following:"
   ]
  },
  {
   "cell_type": "code",
   "execution_count": 13,
   "id": "fcbd3246",
   "metadata": {},
   "outputs": [],
   "source": [
    "digestSequence = \"gcgatgctaggatccgcgatcgcgtacgatcgtacgcggtacggacggatccttctc\"\n"
   ]
  },
  {
   "cell_type": "code",
   "execution_count": 14,
   "id": "23d0b5c8",
   "metadata": {},
   "outputs": [],
   "source": [
    "digested_dna = digest(digestSequence,'bamH1')\n"
   ]
  },
  {
   "cell_type": "code",
   "execution_count": 15,
   "id": "e021054d",
   "metadata": {},
   "outputs": [
    {
     "name": "stdout",
     "output_type": "stream",
     "text": [
      "[('gcgatgcta', 2800.7999999999997), ('ggatccgcgatcgcgtacgatcgtacgcggtacggac', 11478.400000000005), ('ggatccttctc', 3345.1999999999994)]\n"
     ]
    }
   ],
   "source": [
    "print(digested_dna)"
   ]
  }
 ],
 "metadata": {
  "kernelspec": {
   "display_name": "Python 3",
   "language": "python",
   "name": "python3"
  },
  "language_info": {
   "codemirror_mode": {
    "name": "ipython",
    "version": 3
   },
   "file_extension": ".py",
   "mimetype": "text/x-python",
   "name": "python",
   "nbconvert_exporter": "python",
   "pygments_lexer": "ipython3",
   "version": "3.9.1"
  }
 },
 "nbformat": 4,
 "nbformat_minor": 5
}
