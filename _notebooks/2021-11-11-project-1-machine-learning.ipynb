{
 "cells": [
  {
   "cell_type": "markdown",
   "metadata": {},
   "source": [
    "# Building a drug discovery web app - the roadmap\n",
    "> Leveraging opensource data to build a machine learning classifier trained on deep learning generated data\n",
    "\n",
    "- toc: false \n",
    "- badges: true\n",
    "- comments: true\n",
    "- categories: [python, bioinformatics, datasets, SMILES, cheminformatics, drug discovery, RDKit]\n",
    "- image: images/pipe.gif"
   ]
  },
  {
   "cell_type": "markdown",
   "metadata": {},
   "source": [
    "# My goal:\n",
    "\n",
    "The end goal for this project is to build a web app dashboard to monitor the accuracy of machine learning models on generating and classifying molecules with blood brain barrier permeability."
   ]
  }
 ],
 "metadata": {
  "language_info": {
   "name": "python"
  },
  "orig_nbformat": 4
 },
 "nbformat": 4,
 "nbformat_minor": 2
}
