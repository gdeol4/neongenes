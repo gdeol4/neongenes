{
 "cells": [
  {
   "cell_type": "markdown",
   "metadata": {},
   "source": [
    "# Preprocessing a dataset of blood brain barrier molecules with Datamol\n",
    "> Sanitizing and manipulating molecules with binary labels of blood-brain barrier penetration(permeability).\n",
    "\n",
    "- toc: false \n",
    "- badges: true\n",
    "- comments: true\n",
    "- categories: [python, bioinformatics, datasets, SMILES, cheminformatics, datamol, RDKit, molecules]\n",
    "- image: images/mol.gif"
   ]
  },
  {
   "cell_type": "markdown",
   "metadata": {},
   "source": [
    "SMILES (Simplified Molecular Input Line Entry System) is a standard notation representing the molecular structure of a compound as a string representation that can be understood by a computer. The SMILES notation consists of a handful of rules which allow for converting the string to an image or graph. SMILES can then be easily used for generating further representations to train machine learning models with."
   ]
  },
  {
   "cell_type": "code",
   "execution_count": 27,
   "metadata": {},
   "outputs": [],
   "source": [
    "import datamol as dm\n",
    "import pandas as pd\n",
    "pd.options.mode.chained_assignment = None  # default='warn'"
   ]
  },
  {
   "cell_type": "code",
   "execution_count": 28,
   "metadata": {},
   "outputs": [
    {
     "data": {
      "text/html": [
       "<div>\n",
       "<style scoped>\n",
       "    .dataframe tbody tr th:only-of-type {\n",
       "        vertical-align: middle;\n",
       "    }\n",
       "\n",
       "    .dataframe tbody tr th {\n",
       "        vertical-align: top;\n",
       "    }\n",
       "\n",
       "    .dataframe thead th {\n",
       "        text-align: right;\n",
       "    }\n",
       "</style>\n",
       "<table border=\"1\" class=\"dataframe\">\n",
       "  <thead>\n",
       "    <tr style=\"text-align: right;\">\n",
       "      <th></th>\n",
       "      <th>num</th>\n",
       "      <th>name</th>\n",
       "      <th>p_np</th>\n",
       "      <th>smiles</th>\n",
       "    </tr>\n",
       "  </thead>\n",
       "  <tbody>\n",
       "    <tr>\n",
       "      <th>0</th>\n",
       "      <td>1</td>\n",
       "      <td>Propanolol</td>\n",
       "      <td>1</td>\n",
       "      <td>[Cl].CC(C)NCC(O)COc1cccc2ccccc12</td>\n",
       "    </tr>\n",
       "    <tr>\n",
       "      <th>1</th>\n",
       "      <td>2</td>\n",
       "      <td>Terbutylchlorambucil</td>\n",
       "      <td>1</td>\n",
       "      <td>C(=O)(OC(C)(C)C)CCCc1ccc(cc1)N(CCCl)CCCl</td>\n",
       "    </tr>\n",
       "    <tr>\n",
       "      <th>2</th>\n",
       "      <td>3</td>\n",
       "      <td>40730</td>\n",
       "      <td>1</td>\n",
       "      <td>c12c3c(N4CCN(C)CC4)c(F)cc1c(c(C(O)=O)cn2C(C)CO...</td>\n",
       "    </tr>\n",
       "    <tr>\n",
       "      <th>3</th>\n",
       "      <td>4</td>\n",
       "      <td>24</td>\n",
       "      <td>1</td>\n",
       "      <td>C1CCN(CC1)Cc1cccc(c1)OCCCNC(=O)C</td>\n",
       "    </tr>\n",
       "    <tr>\n",
       "      <th>4</th>\n",
       "      <td>5</td>\n",
       "      <td>cloxacillin</td>\n",
       "      <td>1</td>\n",
       "      <td>Cc1onc(c2ccccc2Cl)c1C(=O)N[C@H]3[C@H]4SC(C)(C)...</td>\n",
       "    </tr>\n",
       "  </tbody>\n",
       "</table>\n",
       "</div>"
      ],
      "text/plain": [
       "   num                  name  p_np  \\\n",
       "0    1            Propanolol     1   \n",
       "1    2  Terbutylchlorambucil     1   \n",
       "2    3                 40730     1   \n",
       "3    4                    24     1   \n",
       "4    5           cloxacillin     1   \n",
       "\n",
       "                                              smiles  \n",
       "0                   [Cl].CC(C)NCC(O)COc1cccc2ccccc12  \n",
       "1           C(=O)(OC(C)(C)C)CCCc1ccc(cc1)N(CCCl)CCCl  \n",
       "2  c12c3c(N4CCN(C)CC4)c(F)cc1c(c(C(O)=O)cn2C(C)CO...  \n",
       "3                   C1CCN(CC1)Cc1cccc(c1)OCCCNC(=O)C  \n",
       "4  Cc1onc(c2ccccc2Cl)c1C(=O)N[C@H]3[C@H]4SC(C)(C)...  "
      ]
     },
     "execution_count": 28,
     "metadata": {},
     "output_type": "execute_result"
    }
   ],
   "source": [
    "# Loading dataset; which can be found on MoleculeNet.org\n",
    "BBBP_df = pd.read_csv(\"data/BBBP.csv\")\n",
    "BBBP_df.head()"
   ]
  },
  {
   "cell_type": "markdown",
   "metadata": {},
   "source": [
    "The dataframe shows 4 named columns, including the \"num\" of the molecule, the name, a binary label for blood brain barrier permeability status \"p_np\", and the SMILES string."
   ]
  },
  {
   "cell_type": "code",
   "execution_count": 29,
   "metadata": {},
   "outputs": [
    {
     "data": {
      "text/plain": [
       "False"
      ]
     },
     "execution_count": 29,
     "metadata": {},
     "output_type": "execute_result"
    }
   ],
   "source": [
    "\n",
    "# The name and number can be dropped\n",
    "BBBP_df = BBBP_df.drop([\"num\", \"name\"], axis=1)\n",
    "\n",
    "# Checking the data for null values\n",
    "BBBP_df[\"smiles\"].isnull().values.any()"
   ]
  },
  {
   "cell_type": "markdown",
   "metadata": {},
   "source": [
    "Mols and smiles need to be sanitized as it will leave us with SMILES that are complete nonesense, for example, errors resulting from kekulization.\n",
    "\n",
    "![](images/kekul.jpg)\n",
    "\n",
    "RDkit generates the alternate position of double bonds, and then (in a second step they call \"aromatization\") labels the ring as aromatic. In panel (2), there are three possible Lewis structures contributing to the actual structure (i.e. there is resonance), so the software would have to generate all three to be able to search for identical structures. [1]"
   ]
  },
  {
   "cell_type": "markdown",
   "metadata": {},
   "source": [
    "Below is a function using datamol to preprocess the dataset, including steps to generate mol objects, SELFIES, inchi and inchikeys for each molecule. The function also standardizes mols and SMILES, drops NA values, and returns a dataframe."
   ]
  },
  {
   "cell_type": "code",
   "execution_count": 30,
   "metadata": {},
   "outputs": [],
   "source": [
    "def preprocess_smiles(df):\n",
    "    df[\"mol\"] = [dm.to_mol(x) for x in df['smiles']] # generating mols from SMILES\n",
    "    df[\"mol\"] = [dm.fix_mol(x) for x in df['mol']] # Fixing mols\n",
    "\n",
    "    df = df.dropna() # dropping NA values\n",
    "\n",
    "    df[\"mol\"] = [dm.sanitize_mol(x, sanifix=True, charge_neutral=False) for x in df['mol']] # sanitize mol objects\n",
    "    df[\"mol\"] = [dm.standardize_mol(x, disconnect_metals=False, normalize=True, reionize=True, uncharge=False, stereo=True) for x in df['mol']] # standardize mol objects\n",
    "\n",
    "    df[\"standard_smiles\"] = [dm.standardize_smiles(x) for x in df['smiles']] # standardize SMILES\n",
    "    df[\"selfies\"] = [dm.to_selfies(x) for x in df['mol']] # generate SELFIES\n",
    "    df[\"inchi\"] = [dm.to_inchi(x) for x in df['mol']] # Generating InChi\n",
    "    df[\"inchikey\"] = [dm.to_inchikey(x) for x in df['mol']] # Generating InChIKey\n",
    "\n",
    "    return df"
   ]
  },
  {
   "cell_type": "markdown",
   "metadata": {},
   "source": [
    "Running the function and taking a look at the outputs"
   ]
  },
  {
   "cell_type": "code",
   "execution_count": 31,
   "metadata": {},
   "outputs": [],
   "source": [
    "data_clean = preprocess_smiles(BBBP_df)"
   ]
  },
  {
   "cell_type": "code",
   "execution_count": 32,
   "metadata": {},
   "outputs": [
    {
     "data": {
      "text/plain": [
       "(2039, 7)"
      ]
     },
     "execution_count": 32,
     "metadata": {},
     "output_type": "execute_result"
    }
   ],
   "source": [
    "data_clean.shape"
   ]
  },
  {
   "cell_type": "code",
   "execution_count": 33,
   "metadata": {},
   "outputs": [
    {
     "data": {
      "text/html": [
       "<div>\n",
       "<style scoped>\n",
       "    .dataframe tbody tr th:only-of-type {\n",
       "        vertical-align: middle;\n",
       "    }\n",
       "\n",
       "    .dataframe tbody tr th {\n",
       "        vertical-align: top;\n",
       "    }\n",
       "\n",
       "    .dataframe thead th {\n",
       "        text-align: right;\n",
       "    }\n",
       "</style>\n",
       "<table border=\"1\" class=\"dataframe\">\n",
       "  <thead>\n",
       "    <tr style=\"text-align: right;\">\n",
       "      <th></th>\n",
       "      <th>p_np</th>\n",
       "      <th>smiles</th>\n",
       "      <th>mol</th>\n",
       "      <th>standard_smiles</th>\n",
       "      <th>selfies</th>\n",
       "      <th>inchi</th>\n",
       "      <th>inchikey</th>\n",
       "    </tr>\n",
       "  </thead>\n",
       "  <tbody>\n",
       "    <tr>\n",
       "      <th>0</th>\n",
       "      <td>1</td>\n",
       "      <td>[Cl].CC(C)NCC(O)COc1cccc2ccccc12</td>\n",
       "      <td>&lt;img data-content=\"rdkit/molecule\" src=\"data:i...</td>\n",
       "      <td>CC(C)NCC(O)COc1cccc2ccccc12.[Cl-]</td>\n",
       "      <td>[C][C][Branch1][C][C][N][C][C][Branch1][C][O][...</td>\n",
       "      <td>InChI=1S/C16H21NO2.ClH/c1-12(2)17-10-14(18)11-...</td>\n",
       "      <td>ZMRUPTIKESYGQW-UHFFFAOYSA-M</td>\n",
       "    </tr>\n",
       "    <tr>\n",
       "      <th>1</th>\n",
       "      <td>1</td>\n",
       "      <td>C(=O)(OC(C)(C)C)CCCc1ccc(cc1)N(CCCl)CCCl</td>\n",
       "      <td>&lt;img data-content=\"rdkit/molecule\" src=\"data:i...</td>\n",
       "      <td>CC(C)(C)OC(=O)CCCc1ccc(N(CCCl)CCCl)cc1</td>\n",
       "      <td>[C][C][Branch1][C][C][Branch1][C][C][O][C][=Br...</td>\n",
       "      <td>InChI=1S/C18H27Cl2NO2/c1-18(2,3)23-17(22)6-4-5...</td>\n",
       "      <td>SZXDOYFHSIIZCF-UHFFFAOYSA-N</td>\n",
       "    </tr>\n",
       "    <tr>\n",
       "      <th>2</th>\n",
       "      <td>1</td>\n",
       "      <td>c12c3c(N4CCN(C)CC4)c(F)cc1c(c(C(O)=O)cn2C(C)CO...</td>\n",
       "      <td>&lt;img data-content=\"rdkit/molecule\" src=\"data:i...</td>\n",
       "      <td>CC1COc2c(N3CCN(C)CC3)c(F)cc3c(=O)c(C(=O)O)cn1c23</td>\n",
       "      <td>[C][C][C][O][C][=C][Branch1][N][N][C][C][N][Br...</td>\n",
       "      <td>InChI=1S/C18H20FN3O4/c1-10-9-26-17-14-11(16(23...</td>\n",
       "      <td>GSDSWSVVBLHKDQ-UHFFFAOYSA-N</td>\n",
       "    </tr>\n",
       "    <tr>\n",
       "      <th>3</th>\n",
       "      <td>1</td>\n",
       "      <td>C1CCN(CC1)Cc1cccc(c1)OCCCNC(=O)C</td>\n",
       "      <td>&lt;img data-content=\"rdkit/molecule\" src=\"data:i...</td>\n",
       "      <td>CC(=O)NCCCOc1cccc(CN2CCCCC2)c1</td>\n",
       "      <td>[C][C][=Branch1][C][=O][N][C][C][C][O][C][=C][...</td>\n",
       "      <td>InChI=1S/C17H26N2O2/c1-15(20)18-9-6-12-21-17-8...</td>\n",
       "      <td>FAXLXLJWHQJMPK-UHFFFAOYSA-N</td>\n",
       "    </tr>\n",
       "    <tr>\n",
       "      <th>4</th>\n",
       "      <td>1</td>\n",
       "      <td>Cc1onc(c2ccccc2Cl)c1C(=O)N[C@H]3[C@H]4SC(C)(C)...</td>\n",
       "      <td>&lt;img data-content=\"rdkit/molecule\" src=\"data:i...</td>\n",
       "      <td>Cc1onc(-c2ccccc2Cl)c1C(=O)N[C@@H]1C(=O)N2[C@@H...</td>\n",
       "      <td>[C][C][O][N][=C][Branch1][#Branch2][C][=C][C][...</td>\n",
       "      <td>InChI=1S/C19H18ClN3O5S/c1-8-11(12(22-28-8)9-6-...</td>\n",
       "      <td>LQOLIRLGBULYKD-JKIFEVAISA-N</td>\n",
       "    </tr>\n",
       "  </tbody>\n",
       "</table>\n",
       "</div>"
      ],
      "text/plain": [
       "   p_np                                             smiles  \\\n",
       "0     1                   [Cl].CC(C)NCC(O)COc1cccc2ccccc12   \n",
       "1     1           C(=O)(OC(C)(C)C)CCCc1ccc(cc1)N(CCCl)CCCl   \n",
       "2     1  c12c3c(N4CCN(C)CC4)c(F)cc1c(c(C(O)=O)cn2C(C)CO...   \n",
       "3     1                   C1CCN(CC1)Cc1cccc(c1)OCCCNC(=O)C   \n",
       "4     1  Cc1onc(c2ccccc2Cl)c1C(=O)N[C@H]3[C@H]4SC(C)(C)...   \n",
       "\n",
       "                                                 mol  \\\n",
       "0  <img data-content=\"rdkit/molecule\" src=\"data:i...   \n",
       "1  <img data-content=\"rdkit/molecule\" src=\"data:i...   \n",
       "2  <img data-content=\"rdkit/molecule\" src=\"data:i...   \n",
       "3  <img data-content=\"rdkit/molecule\" src=\"data:i...   \n",
       "4  <img data-content=\"rdkit/molecule\" src=\"data:i...   \n",
       "\n",
       "                                     standard_smiles  \\\n",
       "0                  CC(C)NCC(O)COc1cccc2ccccc12.[Cl-]   \n",
       "1             CC(C)(C)OC(=O)CCCc1ccc(N(CCCl)CCCl)cc1   \n",
       "2   CC1COc2c(N3CCN(C)CC3)c(F)cc3c(=O)c(C(=O)O)cn1c23   \n",
       "3                     CC(=O)NCCCOc1cccc(CN2CCCCC2)c1   \n",
       "4  Cc1onc(-c2ccccc2Cl)c1C(=O)N[C@@H]1C(=O)N2[C@@H...   \n",
       "\n",
       "                                             selfies  \\\n",
       "0  [C][C][Branch1][C][C][N][C][C][Branch1][C][O][...   \n",
       "1  [C][C][Branch1][C][C][Branch1][C][C][O][C][=Br...   \n",
       "2  [C][C][C][O][C][=C][Branch1][N][N][C][C][N][Br...   \n",
       "3  [C][C][=Branch1][C][=O][N][C][C][C][O][C][=C][...   \n",
       "4  [C][C][O][N][=C][Branch1][#Branch2][C][=C][C][...   \n",
       "\n",
       "                                               inchi  \\\n",
       "0  InChI=1S/C16H21NO2.ClH/c1-12(2)17-10-14(18)11-...   \n",
       "1  InChI=1S/C18H27Cl2NO2/c1-18(2,3)23-17(22)6-4-5...   \n",
       "2  InChI=1S/C18H20FN3O4/c1-10-9-26-17-14-11(16(23...   \n",
       "3  InChI=1S/C17H26N2O2/c1-15(20)18-9-6-12-21-17-8...   \n",
       "4  InChI=1S/C19H18ClN3O5S/c1-8-11(12(22-28-8)9-6-...   \n",
       "\n",
       "                      inchikey  \n",
       "0  ZMRUPTIKESYGQW-UHFFFAOYSA-M  \n",
       "1  SZXDOYFHSIIZCF-UHFFFAOYSA-N  \n",
       "2  GSDSWSVVBLHKDQ-UHFFFAOYSA-N  \n",
       "3  FAXLXLJWHQJMPK-UHFFFAOYSA-N  \n",
       "4  LQOLIRLGBULYKD-JKIFEVAISA-N  "
      ]
     },
     "execution_count": 33,
     "metadata": {},
     "output_type": "execute_result"
    }
   ],
   "source": [
    "data_clean.head()"
   ]
  },
  {
   "cell_type": "markdown",
   "metadata": {},
   "source": [
    "The data contains a 3:1 ratio of positive to negeative labels, which creates a bias towards molecules with blood brain permeability properties. This may need to be addressed when training models."
   ]
  },
  {
   "cell_type": "code",
   "execution_count": 34,
   "metadata": {},
   "outputs": [
    {
     "name": "stdout",
     "output_type": "stream",
     "text": [
      "{1: 1560, 0: 479}\n"
     ]
    }
   ],
   "source": [
    "counts = data_clean['p_np'].value_counts().to_dict()\n",
    "print(counts)"
   ]
  },
  {
   "cell_type": "markdown",
   "metadata": {},
   "source": [
    "## References\n",
    "\n",
    "1. Urbaczek, Sascha. A consistent cheminformatics framework for automated virtual screening. Ph.D. Thesis, Universität Hamburg, August 2014. URL: http://ediss.sub.uni-hamburg.de/volltexte/2015/7349/; URN: urn:nbn:de:gbv:18-73491; PDF via Semantic Scholar"
   ]
  }
 ],
 "metadata": {
  "interpreter": {
   "hash": "4eca654ad856033525661d916bea5e205fcbc8e5763d69c2feec2e5cd67b17d1"
  },
  "kernelspec": {
   "display_name": "Python 3.9.7 64-bit ('fastpages': conda)",
   "name": "python3"
  },
  "language_info": {
   "codemirror_mode": {
    "name": "ipython",
    "version": 3
   },
   "file_extension": ".py",
   "mimetype": "text/x-python",
   "name": "python",
   "nbconvert_exporter": "python",
   "pygments_lexer": "ipython3",
   "version": "3.9.7"
  },
  "orig_nbformat": 4
 },
 "nbformat": 4,
 "nbformat_minor": 2
}
