{
 "cells": [
  {
   "cell_type": "markdown",
   "metadata": {},
   "source": [
    "# Working with the B3DB brain-blood barrier dataset\n",
    "> \n",
    "\n",
    "- toc: false \n",
    "- badges: true\n",
    "- comments: true\n",
    "- categories: [python, bioinformatics, datasets, SMILES, cheminformatics, datamol, RDKit, molecules]\n",
    "- image: images/bloodcell.gif"
   ]
  }
 ],
 "metadata": {
  "language_info": {
   "name": "python"
  },
  "orig_nbformat": 4
 },
 "nbformat": 4,
 "nbformat_minor": 2
}
